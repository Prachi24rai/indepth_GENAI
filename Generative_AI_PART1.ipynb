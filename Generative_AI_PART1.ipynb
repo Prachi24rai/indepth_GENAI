{
  "nbformat": 4,
  "nbformat_minor": 0,
  "metadata": {
    "colab": {
      "provenance": []
    },
    "kernelspec": {
      "name": "python3",
      "display_name": "Python 3"
    },
    "language_info": {
      "name": "python"
    }
  },
  "cells": [
    {
      "cell_type": "markdown",
      "source": [
        "# **PART 1 GENERATIVE AI**"
      ],
      "metadata": {
        "id": "prXlpNrP93GR"
      }
    },
    {
      "cell_type": "markdown",
      "source": [
        "A Brief History of Artificial Intelligence\n",
        "The birth of AI"
      ],
      "metadata": {
        "id": "45yU5wZa2xJG"
      }
    },
    {
      "cell_type": "markdown",
      "source": [
        "development of AI as a whole."
      ],
      "metadata": {
        "id": "7aM8aTe23mCG"
      }
    },
    {
      "cell_type": "markdown",
      "source": [
        "Many scientists from different fields were involved in the exploration of artificial intelligence at the beginning of the 20th century."
      ],
      "metadata": {
        "id": "Ft7qP6jV3tB6"
      }
    },
    {
      "cell_type": "markdown",
      "source": [
        " Perhaps one of the most famous was the highly acclaimed mathematician Alan Turing."
      ],
      "metadata": {
        "id": "tdhq_dcE313x"
      }
    },
    {
      "cell_type": "markdown",
      "source": [
        "He has been involved with the challenge of artificial intelligence since at least 1941."
      ],
      "metadata": {
        "id": "ufenn66g4E09"
      }
    },
    {
      "cell_type": "markdown",
      "source": [
        "Turing made one of his earliest mentions of \"intelligent machinery\" in 1947. In an eponymous paper, Turing explored the question of whether a machine could detect rational behavior."
      ],
      "metadata": {
        "id": "Xs_DKi6Y4JCn"
      }
    },
    {
      "cell_type": "markdown",
      "source": [
        "In his 1950 paper Computing Machinery and Intelligence, Alan Turing poses the question \"Can machines think?\". This seminal work in the field of artificial intelligence proposed the idea of the Turing Test. The test requires a person to interact with a computer and a human being. The person must determine, based on their answers to certain questions, whether they are talking to a human or a machine. The program's task is to trick the person into believing that they are having a conversation with a human being."
      ],
      "metadata": {
        "id": "id2ix9ce4QnA"
      }
    },
    {
      "cell_type": "markdown",
      "source": [
        "AI was born in 1956 when a workshop called The Dartmouth Summer Research Project on Artificial Intelligence was held. Researchers from different fields of science, including linguistics, philosophy and computer science, came together. They debated the potential of computing machines to simulate reasoning, intelligence, and creative processes. Among other events at the workshop, John McCarthy, an American computer scientist, proposed a name for a new academic discipline: artificial intelligenc"
      ],
      "metadata": {
        "id": "5P25ZAyX4ZfX"
      }
    },
    {
      "cell_type": "markdown",
      "source": [
        "Machines were becoming more affordable, cheaper, faster, and capable of storing more information. Machine learning (ML) algorithms were also improving. Arthur Samuel introduced the machine learning term in 1959 with the first self-learning program created to play checkers, which could independently play on its own."
      ],
      "metadata": {
        "id": "yroylcEw4jO6"
      }
    },
    {
      "cell_type": "markdown",
      "source": [
        "In the late 1950s, Frank Rosenblatt introduced the perceptron. It could be described as the first ever operational realization of a neural network. A perceptron represents a basic ML model that was designed to aid computers in learning from a diverse range of data."
      ],
      "metadata": {
        "id": "aAuU9ySf4nn0"
      }
    },
    {
      "cell_type": "markdown",
      "source": [
        "In the 1960s, John McCarthy developed the LISP programming language for artificial intelligence tasks. In the same decade, the first expert systems were developed to model a human's knowledge in a certain field. For example, Dendral is the first AI expert system for the purpose of identifying the molecular structure of an unknown organic compound."
      ],
      "metadata": {
        "id": "ak35m2s_4slm"
      }
    },
    {
      "cell_type": "markdown",
      "source": [
        "Among the first functioning examples of generative AI, the ELIZA chatbot was created in 1961 by British scientist Joseph Weizenbaum. It was the first talking computer program that simulated the work of a psychotherapist and could communicate with a human in a natural language."
      ],
      "metadata": {
        "id": "kaPs3S9k4wGi"
      }
    },
    {
      "cell_type": "markdown",
      "source": [
        "In the 1960s and 70s, research on the application of computer vision and the utilization of some basic recognition patterns was carried out. More advanced expert systems were developed during this period. For example, the MYCIN software for diagnosing bacteria that cause serious diseases. By the late 1970s and during the 1980s, the invention of AI was on the decline due to reduced funding."
      ],
      "metadata": {
        "id": "GoUdH_hb6Jw9"
      }
    },
    {
      "cell_type": "markdown",
      "source": [
        "# ***The rise of AI: deep learning and generative ***"
      ],
      "metadata": {
        "id": "qLpFEw2q6TDM"
      }
    },
    {
      "cell_type": "markdown",
      "source": [
        "The rise of the Internet led to what has become an explosion in the amount of data being collected and processed. In the 2000s, the processing power of computing machines has reached the level essential for dealing with enormous data flows. New technologies and concepts have emerged that support the development of artificial intelligence."
      ],
      "metadata": {
        "id": "kmq5ubUw6erp"
      }
    },
    {
      "cell_type": "markdown",
      "source": [
        "Machine learning, neural networks, and deep learning have become more widely accessible and have given new opportunities to develop smarter and responsive systems. Deep learning has been growing particularly fast in the 2010s. It is a type of machine learning that employs multi-layered neural networks that self-train on a large dataset."
      ],
      "metadata": {
        "id": "fYfYlF406z1z"
      }
    },
    {
      "cell_type": "markdown",
      "source": [
        "Despite the fact that the first mentions of deep learning date back to the 1940s and 1950s, powerful computers were not available in those times and the amount of available data was too limited for a full-scale development of deep learning systems. Such rapid progress in the 2010s was facilitated by the growing GPU computing power and the emergence of convolutional neural networks."
      ],
      "metadata": {
        "id": "vm6hkCTX64vf"
      }
    },
    {
      "cell_type": "markdown",
      "source": [
        "Modern generative AI is based mainly on deep learning technique, therefore generative AI also started rapidly developing in the 2010s."
      ],
      "metadata": {
        "id": "E7B2jtwb7AYq"
      }
    },
    {
      "cell_type": "markdown",
      "source": [
        "# First generative AI"
      ],
      "metadata": {
        "id": "RvNxzK-87EkP"
      }
    },
    {
      "cell_type": "markdown",
      "source": [
        "As was already mentioned, one of the first primitive generative AI was ELIZA. It was a text chat bot created in the 1960s by Joseph Weizenbaum. ELIZA was one of the first examples of Natural Language Processing (NLP) and mimicked the work of a psychotherapist and could communicate with humans in natural language.\n",
        "\n",
        "ELIZA followed a simple pattern of recognizing keywords in text to later generate programmed generic responses. The chatbot's ability to communicate created an impression that the machine could understand human speech. However, the machine interpreted all words as character data, without giving them meaning as a human does. According to the developer ELIZA was just a parody of a psychotherapist and was completely non-intelligent.\n",
        "\n",
        "Although it was quite primitive and relatively simple to implement compared to the chatbots of future generations, ELIZA opened the path for subsequent advances in the Natural Language Processing domain over the following decades."
      ],
      "metadata": {
        "id": "zKf8gwiG7PPB"
      }
    },
    {
      "cell_type": "markdown",
      "source": [
        "# **Development of generative AI**"
      ],
      "metadata": {
        "id": "wtatNy7D7aGp"
      }
    },
    {
      "cell_type": "markdown",
      "source": [
        "Generative AI is a type of AI that can create realistic images and videos, generate text or music. To achieve this, generative AI models are applied. The purpose of such models is to generate new samples from what was already in the training data.\n",
        "\n",
        "Some of the first generative models were Hidden Markov Models (HMMs) and Gaussian Mixture Models (GMMs) that were devised in the 1950s. They produced successive pieces of data, such as speech. For instance, for HMMs, one of the first applications was speech recognition. The productivity of generative models, though, significantly boosted only after the rise of deep learning.\n",
        "\n",
        "In the field of natural language processing, recurrent neural networks (RNNs), which were introduced in the late 1980s, are used for language modeling tasks. RNNs can model relatively long dependencies and allow generating longer sentences. Long Short-Term Memory (LSTM), a kind of recurrent neural network, was later developed.\n",
        "\n",
        "One of the fundamental breakthroughs in generative AI is the creation of Generative Adversarial Networks (GANs) in 2014 by an American computer scientist Ian Goodfellow. It is an unsupervised machine learning algorithm that engages two neural networks that are in competition with each other. One network is a generative model that generates content and the other is discriminative that tries to figure out whether it is an authentic sample or not.\n",
        "\n",
        "The success of one network invariably implies the defeat of the other and vice versa. The generator learns to maximize the discriminator's probability of error. On the other hand, the discriminator tries to minimize the probability of its error. The generator will eventually generate high resolution images that cannot be distinguished by the discriminator from the real images after several thousand attempts.\n",
        "\n",
        "This method and other methods, such as variational autoencoders (VAE) and diffusion models, developed around the same time have greatly contributed to the improvement of the image generation process.\n",
        "\n",
        "Another type of model that has played a significant role in the development of generative AI is the transformer architecture model. It's a deep neural network algorithm presented only recently back in 2017. Transformers have powered many generative models in various domains. Similar to recurrent neural networks (RNNs), transformers are intended to process sequences such as natural language text.\n",
        "\n",
        "The transformer architecture is applied in NLP, which has led to the creation of large language models such as BERT and GPT. Vision transformer is a combination of visual features and transformer architecture to complete computer vision (CV) tasks."
      ],
      "metadata": {
        "id": "UHo4yu1x7ice"
      }
    },
    {
      "cell_type": "markdown",
      "source": [
        "# **Recent breakthroughs**\n",
        "# Natural language processing"
      ],
      "metadata": {
        "id": "wS9SUggv7o3w"
      }
    },
    {
      "cell_type": "markdown",
      "source": [
        "A major breakthrough in generative AI and, in particular, in the development of NPL was the introduction of GPT (Generative Pre-trained Transformer) models. In 2018, the first version of GPT was created by OpenAI.\n",
        "\n",
        "It is a neural network that employs deep learning architecture to generate text, engage in conversations with a user and fulfill various language tasks. Its creation marked a turning point in the widespread use of machine learning. We can now apply this technology to automate and refine a diverse variety of tasks, from text translation and writing promotional materials to coding and researching complex topics. The value of such models resides in its processing speed and scale that it can operate at.\n",
        "\n",
        "GPT is a large language model built using a transformer algorithm that is trained in a self-supervised mode on a heap of textual data from the Internet. The model performs a language modeling task, i.e. predicts the next word (or part of a word) given the previous context. In 2023, GPT 4 was released, capable of generating up to 25,000 words of text, which is a significant improvement over previous versions."
      ],
      "metadata": {
        "id": "dU9Qezpv73AC"
      }
    },
    {
      "cell_type": "markdown",
      "source": [
        "# **Deep learning text-to-image models**\n"
      ],
      "metadata": {
        "id": "bdjmIezC8DHp"
      }
    },
    {
      "cell_type": "markdown",
      "source": [
        "At the beginning of the current decade, several AI engines have come to light and become breakthroughs in photorealism.\n",
        "\n",
        "DALL-E is a machine learning model created in 2021 by OpenAI that generates photorealistic images from textual descriptions. GPT-3 has become the foundation for the creation of DALL-E in 2021. It is capable of generating high-quality and realistic images, as well as being able to perform some additional functions, such as adding, replacing, or removing certain objects, or generating alternative variants of a given image according to a textual description. The important aspect is that the model is continuously trained on new data.\n",
        "\n",
        "The DALL-E algorithm incorporates three neural networks:\n",
        "\n",
        "CLIP (Contrastive Language-Image Pre-training) is responsible for recognizing text and creating a sketch of the future image;\n",
        "GLIDE is responsible for converting the sketch into a final low-resolution image;\n",
        "The third neural network is responsible for increasing the resolution of the AI-generated art and adding additional details."
      ],
      "metadata": {
        "id": "0XjGgI0p8OeL"
      }
    },
    {
      "cell_type": "markdown",
      "source": [
        "Stable Diffusion, released in 2022, is an open-source neural network by Stability.ai that allows you to generate images based on text prompts. It allows people to create stunning AI art in a short amount of time. It also assists in completing sketches and editing the original images. Stable Diffusion relies on a diffusion model that generates images from random noise. It is trained to remove unnecessary parts from a sample image step by step, producing a result after a few stages of processing. This algorithm works by successively adding noise to the original image and gradually transforming it into photorealistic images or art.\n",
        "\n",
        "Another generative AI tool for image creation is the Midjourney neural network, created in 2022. Midjourney is powered by speech recognition algorithms and image-generating algorithms. Simply put, it can recognize printed text and convert it into images. Midjourney is a diffusion neural network that, like Stable Diffusion, creates images from noise. It is renowned for being amazingly easy to use to generate artistic images with lots of finely detailed features."
      ],
      "metadata": {
        "id": "iimKGOj78Yfg"
      }
    }
  ]
}